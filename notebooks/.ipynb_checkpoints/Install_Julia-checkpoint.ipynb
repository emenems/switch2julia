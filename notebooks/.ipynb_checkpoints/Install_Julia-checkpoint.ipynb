{
 "cells": [
  {
   "cell_type": "markdown",
   "metadata": {},
   "source": [
    "Julia\n",
    "=====\n",
    "**A high-performance alternative (not only) to Matlab**  \n",
    "\n",
    "### Installation\n",
    "* [Get](https://julialang.org/downloads/) the installation file of the current release (v0.6):\n",
    "* Install to desired location on your computer (Windows)\n",
    "    * Default location: `C:\\Users\\username\\AppData\\Local\\Julia-0.6.0`\n",
    "* You can add the executable to (Windows) system variables\n",
    "    * This will allow you to easily call Julia from Windows command prompt\n",
    "    * Go to `Control Panel >> System and Security >>System >> Advanced system settings >> Advanced >> Environment variables >> Path` and add folder containing Julia executable\n",
    "        * Example `C:\\Users\\username\\AppData\\Local\\Julia-0.6.0\\bin`\n",
    "* Check the installation = start Julia\n",
    "    * Will start Julia terminal (so-called [REPL](https://en.wikibooks.org/wiki/Introducing_Julia/The_REPL))\n",
    "    * Just type ```1 + 2``` (will, hopefully, return ```3```. If not, contact your system administrator and better do not use Julia in a scientific study :-)\n",
    "    \n",
    "### Recommended IDEs\n",
    "After installing Julia, you can set-up your IDE\n",
    "* Juno IDE in **Atom** (recommended by JuliaOrg)\n",
    "    * Get installation file from Atom [website](https://atom.io)\n",
    "    * For installation, follow these [instructions](https://github.com/JunoLab/uber-juno/blob/master/setup.md#getting-atom--juno):\n",
    "        * Go to `File >> Settings` and click on `Install` \n",
    "        * Type `uber-juno` ins `Search Package` filed\n",
    "        * Click on `Install` (`uber-juno` not `julia-client`)\n",
    "        * Restart Atom and go to `File >> Settings` + click on `Packages`\n",
    "            * Click on `julia-client` (installed automatically) `Settings` and check if the _Julia Path_ points to Julia installation folder, e.g.  \n",
    "            `C:/Users/username/AppData/Local/Julia-0.6.0/bin/julia.exe`\n",
    "    * Check if everything was installed correctly: go to `Julia>>Start Julia` (it will take some time when starting the first time)     \n",
    "       \n",
    "* **Optionally**, install [Jupyter](http://jupyter.org) notebook (used to create this page)\n",
    "    * In Julia, type: ```Pkg.add(\"IJulia\")```\n",
    "    * Requires Internet connection only for installation\n",
    "    * To start a notebook (after installation), start Julia terminal and type: \n",
    "       > `using IJulia`  \n",
    "       > `notebook()`\n"
   ]
  },
  {
   "cell_type": "markdown",
   "metadata": {},
   "source": [
    "### Install needed packages "
   ]
  },
  {
   "cell_type": "markdown",
   "metadata": {},
   "source": [
    "* Following packages are used here (unless I've forgotten to add some): \n",
    "    * [DataFrames](https://github.com/JuliaData/DataFrames.jl)\n",
    "    * Plotting package [PyPlot](https://github.com/JuliaPy/PyPlot.jl)\n",
    "    * Least square fitting package [LsqFit](https://github.com/JuliaNLSolvers/LsqFit.jl)\n",
    "    * Package providing basic support for statistic [StatsBase](shttps://github.com/JuliaStats/StatsBase.jl)\n",
    "* **Start Julia Terminal** and type commands as shown below\n",
    "\n",
    "> Installation requires Internet connection"
   ]
  },
  {
   "cell_type": "code",
   "execution_count": null,
   "metadata": {
    "collapsed": true
   },
   "outputs": [],
   "source": [
    "# Let check if everything works= type\n",
    "1+2\n",
    "# OK? To install required packages type:\n",
    "Pkg.update() # will check for possible update of already installed packages\n",
    "Pkg.add(\"DataFrames\")\n",
    "Pkg.add(\"PyPlot\")\n",
    "Pkg.add(\"LsqFit\")\n",
    "# You can run Pkg.update() one more time to check if some installed package does require update of already installed library\n",
    "Pkg.update()\n",
    "\n",
    "# Load packages. This will start the initial compiling that may take some time \n",
    "using DataFrames\n",
    "import PyPlot \n",
    "import LsqFit\n",
    "import StatsBase"
   ]
  }
 ],
 "metadata": {
  "kernelspec": {
   "display_name": "Julia 0.6.0",
   "language": "julia",
   "name": "julia-0.6"
  },
  "language_info": {
   "file_extension": ".jl",
   "mimetype": "application/julia",
   "name": "julia",
   "version": "0.6.0"
  }
 },
 "nbformat": 4,
 "nbformat_minor": 2
}
