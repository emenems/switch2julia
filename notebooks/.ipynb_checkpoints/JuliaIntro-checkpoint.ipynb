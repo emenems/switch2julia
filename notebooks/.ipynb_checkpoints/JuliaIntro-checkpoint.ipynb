{
 "cells": [
  {
   "cell_type": "markdown",
   "metadata": {},
   "source": [
    "Starting with Julia\n",
    "=====\n",
    "* Basics in Julia\n",
    "* Check the [Julia WikiBook](https://en.wikibooks.org/wiki/Introducing_Julia/) for much more detailed introduction to Julia\n",
    "* Or visit Julia documentation [pages](https://docs.julialang.org/en/stable/) \n",
    "\n",
    "### Content\n",
    "<ul>\n",
    "<li><a href=#vectors#>Vector & Matrices</a></li>\n",
    "<li><a href=#indexing#>Indexing in Julia</a></li>\n",
    "<li><a href=#collections#>Other collections</a></li>\n",
    "<li><a href=#functions#>Functions</a></li>\n",
    "<li><a href=#flow#>Flow control</a></li>\n",
    "<li><a href=#scope#>Scope</a></li>\n",
    "<li><a href=#packages#>Packages</a></li>\n",
    "<li><a href=#notes#>Other important notes</a></li>\n",
    "</ul>\n",
    "\n",
    "### Start Julia Terminal"
   ]
  },
  {
   "cell_type": "code",
   "execution_count": 1,
   "metadata": {},
   "outputs": [
    {
     "data": {
      "text/plain": [
       "3"
      ]
     },
     "execution_count": 1,
     "metadata": {},
     "output_type": "execute_result"
    }
   ],
   "source": [
    "# Lets start slowly\n",
    "1+2"
   ]
  },
  {
   "cell_type": "markdown",
   "metadata": {},
   "source": [
    "Check-out how Julia syntax is simple and similar to Matlab  "
   ]
  },
  {
   "cell_type": "code",
   "execution_count": 2,
   "metadata": {},
   "outputs": [
    {
     "name": "stdout",
     "output_type": "stream",
     "text": [
      "So y equals 0.14 (rounded to 2 decimal places)\n"
     ]
    }
   ],
   "source": [
    "freq = 1/pi;          # frequency\n",
    "x = 1.5;              # x value\n",
    "y = sin(2*pi*freq*x); # y value\n",
    "# Now print the result (just like Matlab \"fprintf\" function)\n",
    "@printf(\"So y equals %.2f (rounded to 2 decimal places)\\n\",y) "
   ]
  },
  {
   "cell_type": "markdown",
   "metadata": {},
   "source": [
    "# Vector and Matrix<a name=\"vectors\"></a>\n",
    "* Vectors and Matrices are stored in Julia as [\"Arrays\"](https://en.wikibooks.org/wiki/Introducing_Julia/Arrays_and_tuples#Creating_arrays)\n",
    "* Vector elements must be separated by commas \n",
    "* Matrix rows are separated by semicolumns\n",
    "* Size matters when multiplying vectors/matrices. Not like in R!"
   ]
  },
  {
   "cell_type": "code",
   "execution_count": 4,
   "metadata": {
    "scrolled": true
   },
   "outputs": [
    {
     "name": "stdout",
     "output_type": "stream",
     "text": [
      "[1 2 3 4 5; 6 7 8 9 10]\n",
      "String[\"one\", \"two\", \"and so on\"]\n"
     ]
    },
    {
     "data": {
      "text/plain": [
       "1×1 Array{Int64,2}:\n",
       " 30"
      ]
     },
     "execution_count": 4,
     "metadata": {},
     "output_type": "execute_result"
    }
   ],
   "source": [
    "# Vector separated by commas! Othwrise 2D Array (=Matrix)\n",
    "vector = [1,2,3,4,5]; \n",
    "# Matrix: rows separated by semicolumn\n",
    "matrix = [1 2 3 4 5;6 7 8 9 10]; \n",
    "println(matrix);\n",
    "\n",
    "# Matrices or vectors (=arrays) can also store strings (or ther types)\n",
    "string_vec = [\"one\",\"two\",\"and so on\"];\n",
    "println(string_vec)\n",
    "\n",
    "# Size matters:\n",
    "[1 1 1]*[10 10 10]'\n",
    "# Dimension Mismatch Error: [1 1 1]*[10 10 10]\n",
    "# try this in R: c(1,1,1)*c(10,10,10) and c(1,1,1)*t(c(10,10,10))\n",
    "#   Non of the above would return and error in R! Scary...\n"
   ]
  },
  {
   "cell_type": "markdown",
   "metadata": {
    "collapsed": true
   },
   "source": [
    "Unlike in Matlab, 1:1:10 is not a vector, but `StepRange`\n",
    "* Conversion is possible using `collect` function"
   ]
  },
  {
   "cell_type": "code",
   "execution_count": 6,
   "metadata": {},
   "outputs": [
    {
     "name": "stdout",
     "output_type": "stream",
     "text": [
      "Type of range = StepRange{Int64,Int64}\n",
      "Type of v = Array{Int64,1}\n"
     ]
    }
   ],
   "source": [
    "range = 1:1:10\n",
    "# Convert range to vector use `collect` function\n",
    "v = collect(range);\n",
    "println(\"Type of range = \",typeof(range))\n",
    "println(\"Type of v = \",typeof(v))"
   ]
  },
  {
   "cell_type": "markdown",
   "metadata": {},
   "source": [
    "#### Indexing in Julia<a name=\"indexing\"></a>\n",
    "* Same principle as in _Matlab_, i.e. [row,column]\n",
    "* Use **[] instead of ()**!\n",
    "* Indexing starts with 1 (not like in, e.g. Python) and ends with an `end`\n",
    "* Use `:` symbol for \"all elements\"\n",
    "* In Julia, dot `.` is used to signify \"element-wise\" operations"
   ]
  },
  {
   "cell_type": "code",
   "execution_count": 7,
   "metadata": {},
   "outputs": [
    {
     "name": "stdout",
     "output_type": "stream",
     "text": [
      "Second element of the vector = 2\n",
      "Second row and last column of the matrix = 6\n",
      "Matrix with modified elements\n",
      "[1 2 3; 4 5 6; 7 100 100]\n"
     ]
    }
   ],
   "source": [
    "vector = [1,2,3,4];\n",
    "println(\"Second element of the vector = \",vector[2])\n",
    "matrix = [1 2 3;4 5 6;7 8 9];\n",
    "println(\"Second row and last column of the matrix = \",matrix[2,end])\n",
    "\n",
    "# Conditional indexing: in Matlab>> matrix(matrix>=8) = 100;\n",
    "# Following command replace all elements > 8 with 100.\n",
    "# In Julia, dot `.` is used to signifies \"element-wise\" operations. \n",
    "matrix[matrix.>=8] = 100; \n",
    "println(\"Matrix with modified elements\")\n",
    "println(matrix)"
   ]
  },
  {
   "cell_type": "markdown",
   "metadata": {},
   "source": [
    "### Other collections<a name=\"collections\"></a>\n",
    "* [Dictionaries](https://en.wikibooks.org/wiki/Introducing_Julia/Dictionaries_and_sets#Dictionaries): similar to _Matlab_ structure or cell array \n",
    "* [Sets](https://en.wikibooks.org/wiki/Introducing_Julia/Dictionaries_and_sets#Sets): just like Dictionaries but to avoid duplicated entries\n",
    "* [Tuples](https://en.wikibooks.org/wiki/Introducing_Julia/Arrays_and_tuples#Tuples): used often in Python\n",
    "* [Use-defined](https://en.wikibooks.org/wiki/Introducing_Julia/Types#Creating_types) types\n",
    "* [DataFrames](https://en.wikibooks.org/wiki/Introducing_Julia/DataFrames): requires external package (see section Packages)"
   ]
  },
  {
   "cell_type": "code",
   "execution_count": 8,
   "metadata": {},
   "outputs": [
    {
     "name": "stdout",
     "output_type": "stream",
     "text": [
      "Show variable for 'a' = 1\n",
      "\n",
      "Tuple use standard indexing, tup[2] = 2\n",
      "\n"
     ]
    }
   ],
   "source": [
    "# Create dictionary\n",
    "dict1 = Dict(\"a\" => 1, \"b\" => 2, \"c\" => 3)\n",
    "# Indexint via keys (like in DataFrames) \n",
    "a = dict1[\"a\"];\n",
    "println(\"Show variable for 'a' = $a\\n\")\n",
    "\n",
    "# Create an tuple \n",
    "tup = (1,2,3);\n",
    "# Standard indexing \n",
    "t = tup[2];\n",
    "println(\"Tuple use standard indexing, tup[2] = $t\\n\")"
   ]
  },
  {
   "cell_type": "markdown",
   "metadata": {},
   "source": [
    "## Functions<a name=\"functions\"></a>\n",
    "There are several ways how to write a [function](https://en.wikibooks.org/wiki/Introducing_Julia/Functions) in Julia:\n",
    "* Standard: use `function` keyword\n",
    "* Natural: write just like in Math books\n",
    "* Anonymous functions: without names (handy to use as input)\n",
    "\n",
    "We can write multiple **functions with the same name**! \n",
    "* Inputs, or type of input, make then the difference!\n",
    "* Principle of multiple dispatch "
   ]
  },
  {
   "cell_type": "code",
   "execution_count": 10,
   "metadata": {},
   "outputs": [
    {
     "name": "stdout",
     "output_type": "stream",
     "text": [
      "printinput function test\n",
      "First input = 1\n",
      "Second input = 2\n",
      "\n",
      "outfce test output = 3\n",
      "\n",
      "f(x,y) test output = 100\n",
      "\n",
      "calling 'printinput' function with 3 inputs\n",
      "\n",
      "printtype function input is an Integer\n",
      "\n",
      "printtype function input is a Float64\n"
     ]
    }
   ],
   "source": [
    "# Lets create a function with 2 input variables and print them\n",
    "function printinput(a,b)\n",
    "    println(\"printinput function test\")\n",
    "    println(\"First input = $a\")\n",
    "    println(\"Second input = $b\")\n",
    "end\n",
    "# Call the function \n",
    "printinput(1,2)\n",
    "\n",
    "# Function with and output value \n",
    "function outfce(a,b) # not like in matlab c = outfce(a,b)!\n",
    "    return a+b; # return command is optional!\n",
    "end\n",
    "c = outfce(1,2);\n",
    "println(\"\\noutfce test output = $c\\n\")\n",
    "\n",
    "# Lets try different, the more \"natural\" way of writting function\n",
    "f(x,y) = x*2 + y*4;\n",
    "# Call the function \n",
    "o = f(10,20);\n",
    "println(\"f(x,y) test output = $o\\n\");\n",
    "\n",
    "# We can write multiple function with the same name\n",
    "function printinput(a,b,c)\n",
    "    println(\"calling 'printinput' function with 3 inputs\")\n",
    "end\n",
    "printinput(1,2,3)\n",
    "\n",
    "# Type of input file matters as well\n",
    "function printtype(a::Int)\n",
    "    println(\"\\nprinttype function input is an Integer\")\n",
    "end\n",
    "function printtype(a::Float64)\n",
    "    println(\"\\nprinttype function input is a Float64\")\n",
    "end\n",
    "printtype(1)\n",
    "printtype(1.0)"
   ]
  },
  {
   "cell_type": "markdown",
   "metadata": {},
   "source": [
    "## Flow control<a name=\"flow\"></a>\n",
    "Julia offers similar [flow control](https://en.wikibooks.org/wiki/Introducing_Julia/Controlling_the_flow) as other languages\n",
    "* `if`, `for` and `while` work similar to _Matlab_\n",
    "* No `switch` command"
   ]
  },
  {
   "cell_type": "code",
   "execution_count": 14,
   "metadata": {},
   "outputs": [
    {
     "name": "stdout",
     "output_type": "stream",
     "text": [
      "'a' equals 1\n",
      "\n",
      "'b' equals 1\n",
      "\n",
      "Test for loop\n",
      "1\n",
      "2\n",
      "3\n",
      "4\n",
      "\n",
      "Thes while loop\n",
      "4\n",
      "3\n",
      "2\n",
      "1\n"
     ]
    }
   ],
   "source": [
    "# If example \n",
    "a = 1;\n",
    "if a == 1\n",
    "    println(\"'a' equals 1\\n\")\n",
    "elseif a == 2\n",
    "    println(\"'a' equals 2\\n\")\n",
    "else \n",
    "    println(\"'a' does not equal 1 or 2\\n\")\n",
    "end\n",
    "\n",
    "# Nice way how to use 'if' in one line setting output variable >> ternary operator\n",
    "b = a == 1 ? \"'b' equals 1\" : \"b does not equal 1\";\n",
    "println(b);\n",
    "\n",
    "# For loops\n",
    "vec = [1,2,3,4]\n",
    "# Same as in Matlab\n",
    "#  for i = 1:length(vec)\n",
    "#      println(vec[i]);\n",
    "#  end\n",
    "# Same as above but without indexing\n",
    "println(\"\\nTest for loop\")\n",
    "for i in vec\n",
    "    println(i);\n",
    "end\n",
    "\n",
    "# While\n",
    "println(\"\\nThes while loop\")\n",
    "i = 4;\n",
    "while i > 0\n",
    "    println(i);\n",
    "    i = i - 1;\n",
    "end"
   ]
  },
  {
   "cell_type": "markdown",
   "metadata": {
    "collapsed": true
   },
   "source": [
    "## Scope<a name=\"scope\"></a>\n",
    "The [scope](https://docs.julialang.org/en/release-0.4/manual/variables-and-scoping/#man-variables-and-scoping) of a variable is the region of code within which a variable is visible\n",
    "* All variables defined in a script (not inside a function) are **global** (no keyword is needed)\n",
    "* Functions can access and **modify** global variables!\n",
    "* `for`, `while`, `try` and `try-catch-finally` introduce new **local** scope\n",
    "* Variables with the same name in different scopes can be used simultaneosly  \n",
    "\n",
    "If you are switching from Matlab, make sure you understant the concept of Scopes in Julia, and the differences compare to Matlab/Octave"
   ]
  },
  {
   "cell_type": "code",
   "execution_count": 9,
   "metadata": {},
   "outputs": [
    {
     "name": "stdout",
     "output_type": "stream",
     "text": [
      "accessing 'a' inside a function scope1 = [1, 2, 3]\n",
      "\n",
      "'a' after calling scope2 = [10, 2, 3]\n",
      "\n",
      "'b' vector after calling scope3 = [1, 2, 3]\n",
      "\n",
      "New variable 'c' was created = 1\n",
      "\n"
     ]
    }
   ],
   "source": [
    "# Lets have a look at global and local scopes\n",
    "workspace(); # clear the workspace first\n",
    "a = [1,2,3]; # test vector 'a'\n",
    "b = [1,2,3]; # calling 'b = a' would just copy the variable instead of creating a new one!\n",
    "# Remember that function can access these vectors without any action\n",
    "function scope1()\n",
    "   println(\"accessing 'a' inside a function scope1 = $a\\n\") \n",
    "end\n",
    "# call the function\n",
    "scope1()\n",
    "\n",
    "# Modify a vector\n",
    "function scope2()\n",
    "    a[1] = 10;\n",
    "    d_inside = 1;\n",
    "end\n",
    "# Modify global 'a' vector by running scope2 function!\n",
    "scope2()\n",
    "# 'd_inside' variable is not accessable outside the functio!\n",
    "println(\"'a' after calling scope2 = $a\\n\")\n",
    "\n",
    "# Variables with same name in different scopes\n",
    "function scope3()\n",
    "    b = [100,200]; # new variable NOT affecting 'c' vector!!\n",
    "    b[1] = b[1]*2;\n",
    "end\n",
    "scope3()\n",
    "println(\"'b' vector after calling scope3 = $b\\n\")\n",
    "\n",
    "# IF does not introduce new scope\n",
    "if b[1] == 1\n",
    "    c = 1;\n",
    "end\n",
    "println(\"New variable 'c' was created = $c\\n\")\n",
    "\n",
    "# For loop, however, introduces a new scope\n",
    "for i = 1:10\n",
    "    e_for = 1;\n",
    "end\n",
    "# 'e_for' (as well as 'i') do not exist outside of for loop (can be changed using `global` keyword)"
   ]
  },
  {
   "cell_type": "markdown",
   "metadata": {},
   "source": [
    "### Other important notes<a name=\"notes\"></a>\n",
    "* Be careful when [copying](https://docs.julialang.org/en/release-0.4/stdlib/base/?highlight=deepcopy#Base.deepcopy) variables: Use either `copy` or `deepcopy` function \n",
    "* Heard of Pipelines before? It's awesome feature and you can use the principle in Julia! "
   ]
  },
  {
   "cell_type": "code",
   "execution_count": 15,
   "metadata": {},
   "outputs": [
    {
     "name": "stdout",
     "output_type": "stream",
     "text": [
      "Modifying 'a' affects also 'b'! See: b = [10, 2, 3]\n",
      "\n",
      "'c' variable is now (almost fully) independent of 'a'. See: c = [10, 2, 3]\n",
      "\n"
     ]
    }
   ],
   "source": [
    "workspace()\n",
    "a = [1,2,3];\n",
    "b = a;\n",
    "a[1] = 10;\n",
    "println(\"Modifying 'a' affects also 'b'! See: b = $b\\n\")\n",
    "# To avoid that use 'copy' function\n",
    "c = copy(a);\n",
    "a[2] = 20;\n",
    "println(\"'c' variable is now (almost fully) independent of 'a'. See: c = $c\\n\")"
   ]
  },
  {
   "cell_type": "code",
   "execution_count": 13,
   "metadata": {},
   "outputs": [
    {
     "data": {
      "text/plain": [
       "1"
      ]
     },
     "execution_count": 13,
     "metadata": {},
     "output_type": "execute_result"
    }
   ],
   "source": [
    "# pipeline: pass first input (2.123) to function sqrt, take the output and pass it to sine,\n",
    "# and then take the result and use it as the second input to function round\n",
    "a = 2.123 |> sqrt |> sin |> x -> round(Int,x)"
   ]
  },
  {
   "cell_type": "markdown",
   "metadata": {},
   "source": [
    "## Packages<a name=\"packages\"></a>\n",
    "The Julia library can be easily extended via [Package](https://docs.julialang.org/en/stable/manual/packages/) installation\n",
    "* Julia provides \"official\" list of **tested** packages: pkg.julialang.org\n",
    "* These packages must be on GitHub >> requires Internet connection\n",
    "* It is possible to checkout different version of installed Packages\n",
    "* Packages can be updates directly from Julia shell   \n",
    "\n",
    "Installed packages can be fully loaded to workspace or imported \n",
    "* Full name must be used when Package is imported\n",
    "* Be careful when loading (='using') multiple packages due to name-conflicts  \n",
    "\n",
    "You can write your our packages = [modules](https://en.wikibooks.org/wiki/Introducing_Julia/Modules_and_packages#Structure_of_a_package)\n",
    "* load modeles/functions using 'include' command"
   ]
  },
  {
   "cell_type": "code",
   "execution_count": 23,
   "metadata": {
    "collapsed": true
   },
   "outputs": [],
   "source": [
    "# Update installed packages\n",
    "Pkg.update()\n",
    "# Install DataFrames package\n",
    "Pkg.add(\"DataFrames\")\n",
    "# Load package to the workspace \n",
    "using DataFrames\n",
    "# Load package but use the full Pkg name to avoid name-conflict \n",
    "# For example, Gadfly and PyPlot packages contain 'plot' function\n",
    "import Gadfly\n",
    "import PyPlot\n",
    "# To call Gadfly plot:\n",
    "Gadfly.plot(x=[1,2,3],y=[10,11,12])\n",
    "# To call PyPlot plot:\n",
    "PyPlot.plot([1,2,3],[10,11,12])\n",
    "\n",
    "# Load your own package. \n",
    "# WARNING: Windows users, use double backslash \\\\ or forward slash / in paths!\n",
    "# include(\"f:/path/to/your/julia/Package/src/PackageName.jl\")\n",
    "# Or, add Path to Julia 'LOAD_PATH': \n",
    "# push!(LOAD_PATH, \"f:/path/to/your/julia/Package/src/src\") # where is the source code?\n",
    "# To ensure this path is loaded every time you start julia, copy it to:\n",
    "#   C:\\Users\\username\\AppData\\Local\\Julia-0.6.0\\etc\\julia\\juliarc.jl\n"
   ]
  }
 ],
 "metadata": {
  "kernelspec": {
   "display_name": "Julia 0.6.0",
   "language": "julia",
   "name": "julia-0.6"
  },
  "language_info": {
   "file_extension": ".jl",
   "mimetype": "application/julia",
   "name": "julia",
   "version": "0.6.0"
  }
 },
 "nbformat": 4,
 "nbformat_minor": 2
}
