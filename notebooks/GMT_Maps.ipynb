{
 "cells": [
  {
   "cell_type": "markdown",
   "metadata": {},
   "source": [
    "# Generic Mapping Toolbox (GMT) maps with Julia\n",
    "Switching to Julia with concerns how to plot your data? Make your maps look great again with GMT! This notebook will show some of the amazing GMT+Julia features. \n",
    "\n",
    "### Installation\n",
    "* [GMT](http://gmt.soest.hawaii.edu) and set to PATH (e.g., `\"e:\\programs\\gmt5\\bin\"`)\n",
    "* [Ghostscript](https://ghostscript.com) and set to PATH (e.g., `\"e:\\Program Files\\gs\\gs9.23\\bin\"`)\n",
    "* run `Pkg.add(\"GMT\")` to install directly via REPL \n",
    "\n",
    "In case you need to see some serious **docs** before the liftoff:\n",
    "* User guide for [GMT.jl](https://genericmappingtools.github.io/GMT.jl/latest/) and [GMT](http://gmt.soest.hawaii.edu/doc/5.4.3/index.html)\n"
   ]
  },
  {
   "cell_type": "code",
   "execution_count": null,
   "metadata": {
    "collapsed": true
   },
   "outputs": [],
   "source": [
    "using GMT, DataFrames\n",
    "import FileTools # https://github.com/emenems/FileTools.jl"
   ]
  },
  {
   "cell_type": "markdown",
   "metadata": {},
   "source": [
    "### Basic GMT settings\n",
    "* Following examples are related to calls from Julia\n",
    "    * _Julia example:_ `gmt(\"set PS_MEDIA A4\")` _vs command prompt:_ `gmtset PS_MEDIA A4`\n",
    "* Format of the plot paper: \n",
    "    * to ISO A4: `set PS_MEDIA A4`\n",
    "    * to custom size, e.g. 10x6 cm: `Custom_10cx6c`\n",
    "    * the `c` means centimeters (for inches, use `i`)\n",
    "* Format fonts:\n",
    "    * annotation font (size,type): `set FONT_ANNOT_PRIMARY 9p,Helvetica`\n",
    "    * labels: `set FONT_LABEL 7p`\n",
    "* Set frame (appearance, not spacing etc.)\n",
    "    * frame width (how thick will it be=0.08 cm): `set MAP_FRAME_WIDTH 0.08c`\n",
    "    * frame thicks length: `tset MAP_TICK_LENGTH 0.08c`"
   ]
  },
  {
   "cell_type": "code",
   "execution_count": 2,
   "metadata": {
    "collapsed": true
   },
   "outputs": [],
   "source": [
    "# Set the format of the plot paper\n",
    "gmt(\"set PS_MEDIA A4\")\n",
    "# set fonts \n",
    "gmt(\"set FONT_ANNOT_PRIMARY 8p,Helvetica\")\n",
    "gmt(\"set FONT_LABEL 6p\")\n",
    "# set frame\n",
    "gmt(\"set MAP_TICK_LENGTH 0.07c\")\n",
    "gmt(\"set MAP_FRAME_WIDTH  0.07c\")"
   ]
  },
  {
   "cell_type": "markdown",
   "metadata": {},
   "source": [
    "### Coastlines/land\n",
    "* Can be applied calling `coast()` function in Julia (or via command prompt using `pscoast`)\n",
    "* First, set [projection](http://gmt.soest.hawaii.edu/doc/latest/gmt.html#j-full), e.g.: \n",
    "    * Mercator with central meridian at 0 degrees and map width of 9 cm: `proj=\"M0/9c\"` (`-JM09c`)\n",
    "    * Cylindrical Equidistant projection with 0 deg. and map with of 9.5 cm: `proj=\"Q0/9.5c\"` (`-JQ0/9.5c`)\n",
    "* Set the plotting [region](http://gmt.soest.hawaii.edu/doc/latest/gmt.html#r-full): \n",
    "    * to full globe: `region=[-180 180 -90 90]` (`-R-180/180/-90/90`)\n",
    "* Set boundary/[frame](http://gmt.soest.hawaii.edu/doc/latest/gmt.html#b-full): \n",
    "    * annotation every 45 deg. longitude, 30 deg. latitude while showing anotation only on South+East (west+north only frame=capital letters): `frame=\"45g/30gSEnw\"` (`-B45g45/30g30SEnw`)\n",
    "    * annotation longitude 40 deg., thicks every 20 deg. (without plotting lines=f) + 30 deg. latitude and thicks every 15 deg., and on all frame sites: `frame=\"40f20/30f15SENW\"` (`-B40f20/30f15SENW`)\n",
    "* Plot [land](http://gmt.soest.hawaii.edu/doc/latest/coast.html#g), [ocean](http://gmt.soest.hawaii.edu/doc/latest/coast.html#s), and [rivers](http://gmt.soest.hawaii.edu/doc/latest/coast.html#g)\n",
    "    * fill land area with gray: `land=\"gray\"` (`-Ggray`)\n",
    "    * plot features with area > 1e+4 km^2: `area=10000` (`-A10000`)\n",
    "    * permanent major rivers, width=0.2, in blue: `rivers=\"1/0.2p,blue\"` (`-I1/0.2p,blue`)\n",
    "    * ocean in blue: `water=\"skyblue1\"` (`-Sskyblue1`)\n",
    "* Plot [borders](http://gmt.soest.hawaii.edu/doc/latest/coast.html#n)\n",
    "    * all national/political boarders in dark gray and with 0.1p: `borders=\"1/0.1p,gray10\"` (`-N1/0.1p,gray90`)\n",
    "* Set data [resolution](http://gmt.soest.hawaii.edu/doc/latest/coast.html#d)\n",
    "    * low resolution of the data (not output picture!): `res=\"l\"` (`-Dl`)\n",
    "* To show the results use `show=true` (will open the temp file)"
   ]
  },
  {
   "cell_type": "code",
   "execution_count": 3,
   "metadata": {
    "collapsed": true
   },
   "outputs": [],
   "source": [
    "coast(proj=\"Q12c\", # cylindrical equidistant projection, 12cm \n",
    "    region=[-180 180 -80 85], # plot almost the whole globe\n",
    "    frame=\"60f30/40f20SEnw\", # set thicks every 20/15 (lon/lat), annotation 40/30 (lon/lat) degrees\n",
    "    land=\"khaki\",area=10000, # plot land > 10000 km^2 in gray\n",
    "    water=\"skyblue1\", # ocena in sky/light blue\n",
    "    rivers=\"2/,skyblue1\", # plot \"additional major\" rivers with default width in light blue\n",
    "    borders=\"1/0.1p,gray25\", # plot political borders in 25% gray (100=black)\n",
    "    res=\"l\") # low data resolution"
   ]
  },
  {
   "cell_type": "markdown",
   "metadata": {},
   "source": [
    "### Plot xy data\n",
    "* Function `plot` is equivalent of [psxy](http://gmt.soest.hawaii.edu/doc/5.4.3/psxy.html) in GMT\n",
    "* Can use the same projection settings as described in section **Coastlines/land**\n",
    "* First two arguments in plot are X (longitude) and Y (latitude)\n",
    "    * add data xy (x=10,y=30) data to existing figure: `plot!([10.],[30.],marker=\"plus\")`\n",
    "    * in GMT the X,Y values should be in ASCII file: `psxy XY.txt -S+ -R -J`\n",
    "* Specify marker\n",
    "    * red, full circle with size of 2p: `plot!([1],[2],marker=\"circle\",markeredgecolor=\"red\", markerfacecolor=\"red\",size=\"2p\")`\n",
    "    * in GMT: `psxy XY.txt -Sc -W2p,red -Gred`"
   ]
  },
  {
   "cell_type": "code",
   "execution_count": 4,
   "metadata": {
    "collapsed": true
   },
   "outputs": [],
   "source": [
    "## prepare data that should be plotted\n",
    "sites = DataFrame(\n",
    "        name=[\"Cibinong\", \"Cantley\", \"Djougou\", \"Tigo\", \"Pecny\", \"Sutherland\"],\n",
    "        longitude=[106.85, -75.8071, 1.6056, -73.0256, 14.7856, 20.8109],\n",
    "        latitude =[-6.4903, 45.585, 9.7424, -36.8438, 49.9138, -32.3814],\n",
    "        climate  =[\"A\", \"D\", \"A\", \"C\", \"D\", \"B\"]);\n",
    "\n",
    "## plot data \n",
    "plot!(sites[:longitude], sites[:latitude], \n",
    "    marker=\"circle\",markeredgecolor=\"black\", markerfacecolor=\"red\",\n",
    "    size=0.08)"
   ]
  },
  {
   "cell_type": "markdown",
   "metadata": {},
   "source": [
    "### Plot text\n",
    "* Function `text` is equivalent to [pstext](http://gmt.soest.hawaii.edu/doc/5.4.3/pstext.html) in GMT\n",
    "* Can use the same projection settings as described in section Coastlines/land\n",
    "* Need to prepare input for `gmt` function\n",
    "    * string vector with \"X Y text\": `textin = [\"10 20 first\", \"10 30 second\"];`\n",
    "    * in GMT the X,Y values and text in ASCII file: `pstext XYtext.txt -R -J -F+f6p,Helvetica -Gwhite`\n",
    "* Set font size to Helvetica 6p, red: `text_attrib=\"+f6p,Helvetica,red\"` (`-F+f6p,Helvetica,red\"`)\n",
    "* Set white background: `fill=white` (`-Gwhite`)\n",
    "* Set dX and dY offset (shift in longitude and latitude) to 0.2 and zero: `D=\"0.2/0\"` (`-D0.2/0`)"
   ]
  },
  {
   "cell_type": "code",
   "execution_count": 5,
   "metadata": {
    "collapsed": true
   },
   "outputs": [],
   "source": [
    "## prepare text vector \n",
    "textin = Vector{String}(0);\n",
    "for (i,v) in enumerate(sites[:name])\n",
    "    push!(textin,@sprintf(\"%.4f %.4f %s\",sites[:longitude][i],sites[:latitude][i],v))\n",
    "end\n",
    "\n",
    "## plot text and show result as png\n",
    "text!(F =\"+f7p,Helvetica,black\",D=\"0/0.18\",\n",
    "    fmt=\"png\",show=true, # plot to PNG file and show result => will open created figure\n",
    "    textin) # input with coordinates and text "
   ]
  },
  {
   "cell_type": "markdown",
   "metadata": {},
   "source": [
    "### Resulting map \n",
    "<img src='images/gmt_coast_text.png'>"
   ]
  },
  {
   "cell_type": "code",
   "execution_count": 6,
   "metadata": {
    "collapsed": true
   },
   "outputs": [],
   "source": [
    "# reset GMT config\n",
    "gmt(\"destroy\")"
   ]
  },
  {
   "cell_type": "markdown",
   "metadata": {
    "collapsed": true
   },
   "source": [
    "### Plotting gridded data (DEM)\n",
    "* Let's assume we have some data to be plotted\n",
    "    * In case the gridded data is stored in some file format, we could use some of the [GDAL](http://www.gdal.org) tools to convert it to NetCDF/GMT supported format\n",
    "    * Or we can use GMT [surface](http://gmt.soest.hawaii.edu/doc/latest/surface.html) function for data re-sampling \n",
    "        * will create new object directly in Julia that can be used as input for other functions\n",
    "* To plot in color, we need to create a color pallet table [CPT](http://soliton.vm.bytemark.co.uk/pub/cpt-city/)\n",
    "    * this can be done using [makecpt](https://genericmappingtools.github.io/GMT.jl/latest/#GMT.makecpt) function\n",
    "    * set colormap to dem2 and range to 0-8000 m every 10 m: `cmap=\"dem2\", range=\"0/8000/100` (`-Cdem2 -T0/8000/50`)\n",
    "* Plot gridded data using [grdimage](https://genericmappingtools.github.io/GMT.jl/latest/#GMT.grdimage)_\n",
    "    * set region, projection, annotation just like when using `coast` (see section above)\n",
    "    * in addition, need to set the CPM and pass the gridded values (e.g. G): `color=cmp` (`-Ccmpfile`)\n",
    "* Show scale/[colorbar](http://gmt.soest.hawaii.edu/doc/5.4.3/psscale.html)\n",
    "    * set the `h`orizontal position: center in 5 cm, 0.4 cm below plot, 8 cm long and 0.4 cm thick = `D=\"5c/-0.9c/8c/0.4ch\"` (`-D=\"5c/-0.9c/8c/0.4ch\"`)\n",
    "    * the current GMT misses the `B` switch, to enable it add `cmd = add_opt(cmd, 'B', d, [:B :annot])` to [psscale.jl](https://github.com/GenericMappingTools/GMT.jl/blob/master/src/psscale.jl) (line 73 or so)"
   ]
  },
  {
   "cell_type": "code",
   "execution_count": 29,
   "metadata": {
    "collapsed": true
   },
   "outputs": [],
   "source": [
    "## Set figure\n",
    "gmt(\"set PS_MEDIA=A4\")\n",
    "# set fonts \n",
    "gmt(\"set FONT_ANNOT_PRIMARY=10p FONT_LABEL=10p\")# colorbar label\n",
    "# set frame\n",
    "gmt(\"set MAP_TICK_LENGTH=0.07c MAP_FRAME_WIDTH=0.07c\")"
   ]
  },
  {
   "cell_type": "code",
   "execution_count": 30,
   "metadata": {
    "collapsed": true
   },
   "outputs": [],
   "source": [
    "## Load data\n",
    "datain = FileTools.loadascii(\"data/eu_dem.asc\"); # load \n",
    "# get x,y,z coordinates \n",
    "z = datain[:height];\n",
    "# create corresponding meshgrid to `z`\n",
    "x = [j for i in datain[:y], j in datain[:x]];\n",
    "y = [i for i in datain[:y], j in datain[:x]];"
   ]
  },
  {
   "cell_type": "code",
   "execution_count": 31,
   "metadata": {
    "collapsed": true
   },
   "outputs": [],
   "source": [
    "## Use GMT to prepare the data \n",
    "# resample data to 0.05 degree and to min(lon)/max(lon)/min(lat)/max(lat)\n",
    "G = gmt(\"surface -R0/27/35/60 -I0.04\", [x[:] y[:] z[:]]); \n",
    "# create CPT (type gmt makecpt to see the full list of colormaps)\n",
    "cpt = makecpt(color=\"dem2\");"
   ]
  },
  {
   "cell_type": "code",
   "execution_count": 32,
   "metadata": {
    "collapsed": true
   },
   "outputs": [],
   "source": [
    "# plot gridded data\n",
    "grdimage(R=\"0/27/35/60\", # region\n",
    "        J=\"M6c\", # mercator projection (to 10 cm)\n",
    "        B=\"10f5/10f5SenW\", # annotation every 10 deg. and 5 black/white frame\n",
    "        color=cpt,\n",
    "        G); \n",
    "\n",
    "# add colorbar \n",
    "GMT.scale!(color=cpt,\n",
    "    D=\"3c/-0.9c/5c/0.3ch\",#centre horizonal position 3 cm,0.9 cm below plot,length 5cm,thickness 0.3cm\n",
    "    B=\"x1000+l\\\"height (m)\\\"\")# annotate every 1000 m and add label\n",
    "\n",
    "# add coastlines and political borders + blue ocean \n",
    "# use ! to make sure you plot in the same figure\n",
    "# to add more rivers, need to call coast X times.\n",
    "coast!(I=\"1/,skyblue1\"); # = major rivers\n",
    "coast!(W=\"1/0.15p,black\", # shorelines\n",
    "    N=\"1/0.1p,gray25\", # borders with 75% of gray\n",
    "    S=\"skyblue1\", # ocean in sky/light blue\n",
    "    I=\"2/,skyblue1\", # add rivers in same color\n",
    "    D=\"i\", # intermediate resolution\n",
    "    show=true,fmt=\"png\");"
   ]
  },
  {
   "cell_type": "code",
   "execution_count": 28,
   "metadata": {},
   "outputs": [],
   "source": [
    "## clear cache, remove configuration and history\n",
    "gmt(\"destroy\")\n",
    "rm(\"gmt.conf\")\n",
    "rm(\"gmt.history\")"
   ]
  },
  {
   "cell_type": "markdown",
   "metadata": {},
   "source": [
    "### Resulting DEM \n",
    "<img src='images/gmt_dem_grid.png' style=\"width: 400px\";/>"
   ]
  }
 ],
 "metadata": {
  "kernelspec": {
   "display_name": "Julia 0.6.2",
   "language": "julia",
   "name": "julia-0.6"
  },
  "language_info": {
   "file_extension": ".jl",
   "mimetype": "application/julia",
   "name": "julia",
   "version": "0.6.2"
  }
 },
 "nbformat": 4,
 "nbformat_minor": 2
}
