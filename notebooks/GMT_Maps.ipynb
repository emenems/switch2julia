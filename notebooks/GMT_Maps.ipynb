{
 "cells": [
  {
   "cell_type": "markdown",
   "metadata": {},
   "source": [
    "# Generic Mapping Toolbox (GMT) maps with Julia\n",
    "Switching to Julia with concerns how to plot your data? Make your maps look great again with GMT! This notebook will show some of the amazing GMT+Julia features. \n",
    "\n",
    "### Installation\n",
    "* [GMT](http://gmt.soest.hawaii.edu) and set to PATH (e.g., `\"e:\\programs\\gmt5\\bin\"`)\n",
    "* [Ghostscript](https://ghostscript.com) and set to PATH (e.g., `\"e:\\Program Files\\gs\\gs9.23\\bin\"`)\n",
    "* run `Pkg.add(\"GMT\")` to install directly via REPL \n",
    "\n",
    "In case you need to see some serious **docs** before the liftoff:\n",
    "* User guide for [GMT.jl](https://genericmappingtools.github.io/GMT.jl/latest/) and [GMT](http://gmt.soest.hawaii.edu/doc/5.4.3/index.html)\n"
   ]
  },
  {
   "cell_type": "code",
   "execution_count": 28,
   "metadata": {
    "collapsed": true
   },
   "outputs": [],
   "source": [
    "using GMT, DataFrames"
   ]
  },
  {
   "cell_type": "markdown",
   "metadata": {},
   "source": [
    "### Basic GMT settings\n",
    "* Following examples are related to calls from Julia\n",
    "    * _Julia example:_ `gmt(\"set PS_MEDIA A4\")` _vs command prompt:_ `gmtset PS_MEDIA A4`\n",
    "* Format of the plot paper: \n",
    "    * to ISO A4: `set PS_MEDIA A4`\n",
    "    * to custom size, e.g. 10x6 cm: `Custom_10cx6c`\n",
    "    * the `c` means centimeters (for inches, use `i`)\n",
    "* Format fonts:\n",
    "    * annotation font (size,type): `set FONT_ANNOT_PRIMARY 9p,Helvetica`\n",
    "    * labels: `set FONT_LABEL 7p`\n",
    "* Set frame (appearance, not spacing etc.)\n",
    "    * frame width (how thick will it be=0.08 cm): `set MAP_FRAME_WIDTH 0.08c`\n",
    "    * frame thicks length: `tset MAP_TICK_LENGTH 0.08c`"
   ]
  },
  {
   "cell_type": "code",
   "execution_count": 29,
   "metadata": {
    "collapsed": true
   },
   "outputs": [],
   "source": [
    "# Set the format of the plot paper\n",
    "gmt(\"set PS_MEDIA A4\")\n",
    "# set fonts \n",
    "gmt(\"set FONT_ANNOT_PRIMARY 8p,Helvetica\")\n",
    "gmt(\"set FONT_LABEL 6p\")\n",
    "# set frame\n",
    "gmt(\"set MAP_TICK_LENGTH 0.07c\")\n",
    "gmt(\"set MAP_FRAME_WIDTH  0.07c\")"
   ]
  },
  {
   "cell_type": "markdown",
   "metadata": {},
   "source": [
    "### Coastlines/land\n",
    "* Can be applied calling `coast()` function in Julia (or via command prompt using `pscoast`)\n",
    "* First, set [projection](http://gmt.soest.hawaii.edu/doc/latest/gmt.html#j-full), e.g.: \n",
    "    * Mercator with central meridian at 0 degrees and map width of 9 cm: `proj=\"M0/9c\"` (`-JM09c`)\n",
    "    * Cylindrical Equidistant projection with 0 deg. and map with of 9.5 cm: `proj=\"Q0/9.5c\"` (`-JQ0/9.5c`)\n",
    "* Set the plotting [region](http://gmt.soest.hawaii.edu/doc/latest/gmt.html#r-full): \n",
    "    * to full globe: `region=[-180 180 -90 90]` (`-R-180/180/-90/90`)\n",
    "* Set boundary/[frame](http://gmt.soest.hawaii.edu/doc/latest/gmt.html#b-full): \n",
    "    * annotation every 45 deg. longitude, 30 deg. latitude while showing anotation only on South+East (west+north only frame=capital letters): `frame=\"45g/30gSEnw\"` (`-B45g45/30g30SEnw`)\n",
    "    * annotation longitude 40 deg., thicks every 20 deg. (without plotting lines=f) + 30 deg. latitude and thicks every 15 deg., and on all frame sites: `frame=\"40f20/30f15SENW\"` (`-B40f20/30f15SENW`)\n",
    "* Plot [land](http://gmt.soest.hawaii.edu/doc/latest/coast.html#g), [ocean](http://gmt.soest.hawaii.edu/doc/latest/coast.html#s), and [rivers](http://gmt.soest.hawaii.edu/doc/latest/coast.html#g)\n",
    "    * fill land area with gray: `land=\"gray\"` (`-Ggray`)\n",
    "    * plot features with area > 1e+4 km^2: `area=10000` (`-A10000`)\n",
    "    * permanent major rivers, width=0.2, in blue: `rivers=\"1/0.2p,blue\"` (`-I1/0.2p,blue`)\n",
    "    * ocean in blue: `water=\"skyblue1\"` (`Sskyblue1`)\n",
    "* Plot [borders](http://gmt.soest.hawaii.edu/doc/latest/coast.html#n)\n",
    "    * all national/political boarders in dark gray and with 0.1p: `borders=\"1/0.1p,gray10\"` (`-N1/0.1p,gray90`)\n",
    "* Set data [resolution](http://gmt.soest.hawaii.edu/doc/latest/coast.html#d)\n",
    "    * low resolution of the data (not output picture!): `res=\"l\"` (`-Dl`)\n",
    "* To show the results use `show=true` (will open the temp file)"
   ]
  },
  {
   "cell_type": "code",
   "execution_count": 30,
   "metadata": {
    "collapsed": true
   },
   "outputs": [],
   "source": [
    "coast(proj=\"Q12c\", # cylindrical equidistant projection, 12cm \n",
    "    region=[-180 180 -80 85], # plot almost the whole globe\n",
    "    frame=\"60f30/40f20SEnw\", # set thicks every 20/15 (lon/lat), annotation 40/30 (lon/lat) degrees\n",
    "    land=\"khaki\",area=10000, # plot land > 10000 km^2 in gray\n",
    "    water=\"skyblue1\", # ocena in sky/light blue\n",
    "    rivers=\"2/,skyblue1\", # plot \"additional major\" rivers with default width in light blue\n",
    "    borders=\"1/0.1p,gray25\", # plot political borders in 25% gray (100=black)\n",
    "    res=\"l\") # low data resolution"
   ]
  },
  {
   "cell_type": "markdown",
   "metadata": {},
   "source": [
    "### Plot xy data\n",
    "* Function `plot` is equivalent of [psxy](http://gmt.soest.hawaii.edu/doc/5.4.3/psxy.html) in GMT\n",
    "* Can use the same projection settings as described in section **Coastlines/land**\n",
    "* First two arguments in plot are X (longitude) and Y (latitude)\n",
    "    * add data xy (x=10,y=30) data to existing figure: `plot!([10.],[30.],marker=\"plus\")`\n",
    "    * in GMT the X,Y values should be in ASCII file: `psxy XY.txt -S+ -R -J`\n",
    "* Specify marker\n",
    "    * red, full circle with size of 2p: `plot!([1],[2],marker=\"circle\",markeredgecolor=\"red\", markerfacecolor=\"red\",size=\"2p\")`\n",
    "    * in GMT: `psxy XY.txt -Sc -W2p,red -Gred`"
   ]
  },
  {
   "cell_type": "code",
   "execution_count": 31,
   "metadata": {
    "collapsed": true
   },
   "outputs": [],
   "source": [
    "## prepare data that should be plotted\n",
    "sites = DataFrame(\n",
    "        name=[\"Cibinong\", \"Cantley\", \"Djougou\", \"Tigo\", \"Pecny\", \"Sutherland\"],\n",
    "        longitude=[106.85, -75.8071, 1.6056, -73.0256, 14.7856, 20.8109],\n",
    "        latitude =[-6.4903, 45.585, 9.7424, -36.8438, 49.9138, -32.3814],\n",
    "        climate  =[\"A\", \"D\", \"A\", \"C\", \"D\", \"B\"]);\n",
    "\n",
    "## plot data \n",
    "plot!(sites[:longitude], sites[:latitude], \n",
    "    marker=\"circle\",markeredgecolor=\"black\", markerfacecolor=\"red\",\n",
    "    size=0.08)"
   ]
  },
  {
   "cell_type": "markdown",
   "metadata": {},
   "source": [
    "### Plot text\n",
    "* Function `text` is equivalent to [pstext](http://gmt.soest.hawaii.edu/doc/5.4.3/pstext.html) in GMT\n",
    "* Can use the same projection settings as described in section Coastlines/land\n",
    "* Need to prepare input for `gmt` function\n",
    "    * string vector with \"X Y text\": `textin = [\"10 20 first\", \"10 30 second\"];`\n",
    "    * in GMT the X,Y values and text in ASCII file: `pstext XYtext.txt -R -J -F+f6p,Helvetica -Gwhite`\n",
    "* Set font size to Helvetica 6p, red: `text_attrib=\"+f6p,Helvetica,red\"` (`-F+f6p,Helvetica,red\"`)\n",
    "* Set white background: `fill=white` (`-Gwhite`)\n",
    "* Set dX and dY offset (shift in longitude and latitude) to 0.2 and zero: `D=\"0.2/0\"` (`-D0.2/0`)"
   ]
  },
  {
   "cell_type": "code",
   "execution_count": 32,
   "metadata": {
    "collapsed": true
   },
   "outputs": [],
   "source": [
    "## prepare text vector \n",
    "textin = Vector{String}(0);\n",
    "for (i,v) in enumerate(sites[:name])\n",
    "    push!(textin,@sprintf(\"%.4f %.4f %s\",sites[:longitude][i],sites[:latitude][i],v))\n",
    "end\n",
    "\n",
    "## plot text and show result as png\n",
    "text!(F =\"+f7p,Helvetica,black\",D=\"0/0.18\",\n",
    "    fmt=\"png\",show=true, # plot to PNG file and show result => will open created figure\n",
    "    textin) # input with coordinates and text "
   ]
  },
  {
   "cell_type": "markdown",
   "metadata": {},
   "source": [
    "### Resulting map \n",
    "<img src='images/gmt_coast_text.png'>"
   ]
  },
  {
   "cell_type": "code",
   "execution_count": 33,
   "metadata": {
    "collapsed": true
   },
   "outputs": [],
   "source": [
    "# reset GMT config\n",
    "gmt(\"destroy\")"
   ]
  },
  {
   "cell_type": "code",
   "execution_count": null,
   "metadata": {
    "collapsed": true
   },
   "outputs": [],
   "source": []
  }
 ],
 "metadata": {
  "kernelspec": {
   "display_name": "Julia 0.6.2",
   "language": "julia",
   "name": "julia-0.6"
  },
  "language_info": {
   "file_extension": ".jl",
   "mimetype": "application/julia",
   "name": "julia",
   "version": "0.6.2"
  }
 },
 "nbformat": 4,
 "nbformat_minor": 2
}
